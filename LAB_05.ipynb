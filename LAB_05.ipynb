{
  "nbformat": 4,
  "nbformat_minor": 0,
  "metadata": {
    "colab": {
      "provenance": [],
      "authorship_tag": "ABX9TyNiX15+1U1gxjwPXb9cBG7Z",
      "include_colab_link": true
    },
    "kernelspec": {
      "name": "python3",
      "display_name": "Python 3"
    },
    "language_info": {
      "name": "python"
    }
  },
  "cells": [
    {
      "cell_type": "markdown",
      "metadata": {
        "id": "view-in-github",
        "colab_type": "text"
      },
      "source": [
        "<a href=\"https://colab.research.google.com/github/Vamshi65198/RLML_AIML/blob/main/LAB_05.ipynb\" target=\"_parent\"><img src=\"https://colab.research.google.com/assets/colab-badge.svg\" alt=\"Open In Colab\"/></a>"
      ]
    },
    {
      "cell_type": "code",
      "execution_count": 1,
      "metadata": {
        "colab": {
          "base_uri": "https://localhost:8080/"
        },
        "id": "b2eVzjjoJawm",
        "outputId": "f7c7f7d1-07ee-45db-e820-db8866adaa51"
      },
      "outputs": [
        {
          "output_type": "stream",
          "name": "stdout",
          "text": [
            "Episode 1000: Average reward = -125.05, Epsilon = 0.010\n",
            "Episode 2000: Average reward = -2.49, Epsilon = 0.010\n",
            "Episode 3000: Average reward = 6.88, Epsilon = 0.010\n",
            "Episode 4000: Average reward = 7.28, Epsilon = 0.010\n",
            "Episode 5000: Average reward = 7.34, Epsilon = 0.010\n",
            "Episode 6000: Average reward = 7.39, Epsilon = 0.010\n",
            "Episode 7000: Average reward = 7.43, Epsilon = 0.010\n",
            "Episode 8000: Average reward = 7.31, Epsilon = 0.010\n",
            "Episode 9000: Average reward = 7.31, Epsilon = 0.010\n",
            "Episode 10000: Average reward = 7.36, Epsilon = 0.010\n"
          ]
        }
      ],
      "source": [
        "import numpy as np\n",
        "import gymnasium as gym\n",
        "import random\n",
        "\n",
        "\n",
        "env = gym.make(\"Taxi-v3\")\n",
        "\n",
        "\n",
        "state_space_size = env.observation_space.n\n",
        "action_space_size = env.action_space.n\n",
        "Q = np.zeros((state_space_size, action_space_size))\n",
        "\n",
        "\n",
        "alpha = 0.1\n",
        "gamma = 0.99\n",
        "epsilon = 1.0\n",
        "epsilon_decay = 0.995\n",
        "epsilon_min = 0.01\n",
        "episodes = 10000\n",
        "max_steps = 100\n",
        "\n",
        "rewards = []\n",
        "\n",
        "for episode in range(episodes):\n",
        "    state, _ = env.reset()\n",
        "    total_reward = 0\n",
        "\n",
        "    for step in range(max_steps):\n",
        "\n",
        "        if random.uniform(0, 1) < epsilon:\n",
        "            action = env.action_space.sample()\n",
        "        else:\n",
        "            action = np.argmax(Q[state, :])\n",
        "\n",
        "        next_state, reward, terminated, truncated, _ = env.step(action)\n",
        "        done = terminated or truncated\n",
        "\n",
        "\n",
        "        best_next_action = np.argmax(Q[next_state, :])\n",
        "        Q[state, action] = Q[state, action] + alpha * (reward + gamma * Q[next_state, best_next_action] - Q[state, action])\n",
        "\n",
        "        state = next_state\n",
        "        total_reward += reward\n",
        "\n",
        "        if done:\n",
        "            break\n",
        "\n",
        "\n",
        "    epsilon = max(epsilon_min, epsilon * epsilon_decay)\n",
        "\n",
        "    rewards.append(total_reward)\n",
        "\n",
        "\n",
        "    if (episode + 1) % 1000 == 0:\n",
        "        avg_reward = np.mean(rewards[-1000:])\n",
        "        print(f\"Episode {episode + 1}: Average reward = {avg_reward:.2f}, Epsilon = {epsilon:.3f}\")\n",
        "\n",
        "\n",
        "env.close()\n"
      ]
    },
    {
      "cell_type": "code",
      "source": [
        "\n",
        "test_episodes = 10\n",
        "for episode in range(test_episodes):\n",
        "    state, _ = env.reset()\n",
        "    done = False\n",
        "    print(f\"\\nTest Episode {episode + 1}\")\n",
        "    total_reward = 0\n",
        "    while not done:\n",
        "        action = np.argmax(Q[state])\n",
        "        state, reward, terminated, truncated, _ = env.step(action)\n",
        "        done = terminated or truncated\n",
        "        total_reward += reward\n",
        "        env.render()\n",
        "    print(f\"Total Reward: {total_reward}\")\n"
      ],
      "metadata": {
        "colab": {
          "base_uri": "https://localhost:8080/"
        },
        "id": "2-L1Wp79J_8N",
        "outputId": "93c3db59-fa7d-4831-f910-a6377742e42c"
      },
      "execution_count": 2,
      "outputs": [
        {
          "output_type": "stream",
          "name": "stdout",
          "text": [
            "\n",
            "Test Episode 1\n",
            "Total Reward: 9\n",
            "\n",
            "Test Episode 2\n",
            "Total Reward: 3\n",
            "\n",
            "Test Episode 3\n",
            "Total Reward: 4\n",
            "\n",
            "Test Episode 4\n",
            "Total Reward: 9\n",
            "\n",
            "Test Episode 5\n",
            "Total Reward: 12\n",
            "\n",
            "Test Episode 6\n",
            "Total Reward: 6\n",
            "\n",
            "Test Episode 7\n",
            "Total Reward: 12\n",
            "\n",
            "Test Episode 8\n",
            "Total Reward: 7\n",
            "\n",
            "Test Episode 9\n",
            "Total Reward: 9\n",
            "\n",
            "Test Episode 10\n",
            "Total Reward: 10\n"
          ]
        },
        {
          "output_type": "stream",
          "name": "stderr",
          "text": [
            "/usr/local/lib/python3.12/dist-packages/gymnasium/envs/toy_text/taxi.py:443: UserWarning: \u001b[33mWARN: You are calling render method without specifying any render mode. You can specify the render_mode at initialization, e.g. gym.make(\"Taxi-v3\", render_mode=\"rgb_array\")\u001b[0m\n",
            "  gym.logger.warn(\n"
          ]
        }
      ]
    }
  ]
}